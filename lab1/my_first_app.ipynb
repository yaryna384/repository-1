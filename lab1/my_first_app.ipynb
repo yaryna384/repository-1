{
 "cells": [
  {
   "cell_type": "code",
   "execution_count": null,
   "id": "de272a61",
   "metadata": {},
   "outputs": [],
   "source": [
    "from datetime import datetime\n",
    "name = \"Yaryna\"\n",
    "location = \"Stryy\"\n",
    "\n",
    "print(f\"{name} start programming at {datetime.now()}. {location} is the best city!\")"
   ]
  }
 ],
 "metadata": {
  "kernelspec": {
   "display_name": "Python 3",
   "language": "python",
   "name": "python3"
  },
  "language_info": {
   "name": "python",
   "version": "3.14.0"
  }
 },
 "nbformat": 4,
 "nbformat_minor": 5
}
